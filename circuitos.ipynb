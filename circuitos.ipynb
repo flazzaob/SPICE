{
 "metadata": {
  "language_info": {
   "codemirror_mode": {
    "name": "ipython",
    "version": 3
   },
   "file_extension": ".py",
   "mimetype": "text/x-python",
   "name": "python",
   "nbconvert_exporter": "python",
   "pygments_lexer": "ipython3",
   "version": "3.8.3-final"
  },
  "orig_nbformat": 2,
  "kernelspec": {
   "name": "python3",
   "display_name": "Python 3",
   "language": "python"
  }
 },
 "nbformat": 4,
 "nbformat_minor": 2,
 "cells": [
  {
   "source": [
    "# LABORATORIO SPICE"
   ],
   "cell_type": "markdown",
   "metadata": {}
  },
  {
   "source": [
    "En todo este Notebook de Jupyter, se utilizará el estándar [SPICE](http://bwrcs.eecs.berkeley.edu/Classes/IcBook/SPICE/) para realizar simulaciones en circuitos de corriente continua y alterna. Utilizaremos Ahkab y LTspice en las diversas simulaciones."
   ],
   "cell_type": "markdown",
   "metadata": {}
  },
  {
   "source": [
    "> Existen diversos intérpretes de Spice aunque en este laboratorio utilicemos dos de ellos. Se nombran a continuación algunos de ellos:\n",
    "\n",
    "\n",
    "| Intérprete | Licencia |  Fabricante                           | Versión   | Características                                        |  Referencia                                                              |\n",
    "| :--------: | :------: | :-----------------------------------  | :-----:   | :------------------                                    |  :-----------:                                                           |\n",
    "| Ahkab      | GPL      | Giuseppe Venturini                    | 0.18      | Basado en Python                                       | [GitHub](https://ahkab.github.io/ahkab/)                                 |\n",
    "| Ngspice    | BSD      | Universidad de California             | 33        | Basado en C                                            | [Sourceforge](http://ngspice.sourceforge.net/docs/ngspice-33-manual.pdf) |\n",
    "| LTspice    | GPL      | Analog Devices, Inc. (Mike Engelhardt)| 17.0.21.0 | Permite dibujar los circuitos y ejecutar la simulación | [Analog Devices](https://www.analog.com/en/design-center/design-tools-and-calculators/ltspice-simulator.html) |\n",
    "| PartSim    | GPL      | Arrow Electronics, Inc./Aspencore     | 2.2.7     | En la nube, aplicación web basada en Ngspice y C       | [PartSim](https://www.partsim.com/)                                      |\n",
    "| MacSpice   | GPL      |Charles D. H. William                  | 3.1.24    | Basado en bash                                         | [MacSpice](https://www.macspice.com/Copyright.html)                      |\n",
    "| PySpice    | GPLv3    | Fabrice Salvaire                      | 1.4.3     | Basado en Python, usa Ngspice                          | [PySpice](https://pypi.org/project/PySpice/)                             |\n",
    "| gEDA       | GPL      | Ales Hvezda                           | 1.8.2     | Basado en C                                            | [gEDA project](http://www.geda-project.org/)                             |\n"
   ],
   "cell_type": "markdown",
   "metadata": {}
  },
  {
   "source": [
    "> **SPICE3** es un lenguaje estándar para la simulación de circuitos. Su actual versión SPICE3, fue desarrollada por Thomas Quarless con características nuevas e interfaz gráfica, y está desarrollada en lenguaje C. Es por ello, que además de poder cargarse desde un texto plano, se puede ejecutar con comandos (como pasa con C).\n",
    " \n",
    "Compiladores de C:DevC++, CodeBlock, GCC, MinGW, Turbo C, etc."
   ],
   "cell_type": "markdown",
   "metadata": {}
  },
  {
   "source": [
    "> A continuación, especificamos una tabla de prefijos de múltiplos de las [unidades del Sistema Internacional](https://en.wikipedia.org/wiki/SI_electromagnetism_units) que podrían hacer falta al especificar los componentes y valores del **netlist**"
   ],
   "cell_type": "markdown",
   "metadata": {}
  },
  {
   "source": [
    "## TABLA DE PREFIJOS DE MÚLTIPLOS\n",
    "<center>\n",
    "\n",
    "| Prefijo | Abreviatura | Equivalencia |\n",
    "| :-----: | :---------: | :----------: |\n",
    "| yotta | Y | $10^{24}$ | \n",
    "| zetta | Z | $10^{21}$ |\n",
    "| exa | E | $10^{18}$ |\n",
    "| peta | P | $10^{15}$ |\n",
    "| tera | T | $10^{12}$ |\n",
    "| giga | G | $10^9$ |\n",
    "| mega | M | $10^6$ |\n",
    "| kilo | k | $10^3$ |\n",
    "| hecto | h | $10^2$ |\n",
    "| deca | da | $10^1$ |\n",
    "| sin prefijo |  | $10^0$ |\n",
    "| deci | d | $10^{-1}$ |\n",
    "| centi | c | $10^{-2}$ |\n",
    "| mili | m | $10^{-3}$ |\n",
    "| micro | u | $10^{-6}$ |\n",
    "| nano | n | $10^{-9}$ |\n",
    "| pico | p | $10^{-12}$ |\n",
    "| femto | f | $10^{-15}$ |\n",
    "| atto | a | $10^{-18}$ |\n",
    "| zepto | z | $10^{-21}$ |\n",
    "| yocto | y | $10^{-24}$ |\n",
    "\n",
    "</center>\n",
    "\n",
    "Referencia: [Wikipedia](https://es.wikipedia.org/wiki/Prefijos_del_Sistema_Internacional)"
   ],
   "cell_type": "markdown",
   "metadata": {}
  },
  {
   "source": [
    "> Las posibles unidades que podamos utilizar durante la práctica son:"
   ],
   "cell_type": "markdown",
   "metadata": {}
  },
  {
   "source": [
    "## Tabla unidades del Sistema Internacional usados en el Tema 5: Circuitos Eléctricos\n",
    "\n",
    "<center>\n",
    "\n",
    "| Magnitud | Propiedad | Símbolo |\n",
    "| :------: | :-------: | :-----: |\n",
    "| Carga Eléctrica | Culombio | $C$ |\n",
    "| Corriente Eléctrica | Amperio | $A$ |\n",
    "| Diferencia de Potencial | Voltio | $V$ |\n",
    "| Resistencia | Ohm | $\\Omega$ |\n",
    "| Trabajo | Watio | $W$ |\n",
    "| Capacidad | Faradio | $F$ |\n",
    "| Electricidad | Voltio por metro | $V/m$|\n",
    "| Resistividad | Faradio por metro | $F/m$ |\n",
    "\n",
    "</center>"
   ],
   "cell_type": "markdown",
   "metadata": {}
  },
  {
   "source": [
    "> Los lenguajes en los que mejor encajaría **SPICE**, debido a su desarrollo en lenguaje C:     \n",
    "- **Procedurales/imperativos**, ya que puedes cargar un bloque de código mediante una llamada a un procedimiento o función.\n",
    "- **Estructurados**, ya que hay que seguir una estructura concreta para interpretar bien los datos.\n"
   ],
   "cell_type": "markdown",
   "metadata": {}
  },
  {
   "source": [
    "> El parámetro `uic` en los análisis `.tran`, significa: USE INITIAL CONDITIONS. Esto se utiliza para establecer el estado del circuito en el momento `t=tstart`, los valores posibles son:    \n",
    "\n",
    "\n",
    "| Valor | Instrucción |\n",
    "| :---: | :---------- |\n",
    "| 0 | Todos los nodos de voltajes e intensidades de fuentes/e/h/v comienzan en 0 cuando `t=tstart`.|\n",
    "| 1 | El estado del circuito en t=tstart es el último resultado del análisis OP|\n",
    "| 2 | El estado del circuito en t=tstart es el último resultado del análisis OP en el que están establecidos los valores de intensidades a través de inductores y voltajes en los condensadores especificados en su `ic`|\n",
    "| 3 | EL usuario carga un `ic` (archivo de estado)|\n"
   ],
   "cell_type": "markdown",
   "metadata": {}
  },
  {
   "source": [
    "> Al igual que Ahkab es una implementación en Python del estándar **SPICE**, existen otros ejemplos:    \n",
    "\n",
    "| Estándar | Implementación | Características |\n",
    "| :------: | :------------: | :-------------- |\n",
    "| ODF (OpenDocument) | LibreOffice | Formato de archivo para el almacenamiento de documentos ofimáticos basado en lenguaje de esquema XML (Desarrollado en C++, Java y Python) |\n",
    "| JavaScript, CSS | Bootstrap | Framework para construir sitios responsive (páginas web), para que se adapten al tamaño del dispositivo (Desarrollado en HTML, CSS, LESS y Javascript) |\n",
    "| Python | NumPy | Biblioteca para la creación de vectores y matrices multidimensionales, demás de operaciones de alto nivel (Desarrollado en Python, C y Fortran)|\n",
    "| SVG | Inkscape | Editor de vectores gráficos multiplataforma (Desarrollado en C++ y GTK)|"
   ],
   "cell_type": "markdown",
   "metadata": {}
  },
  {
   "source": [
    "> El creador de Ahkab es **Giuseppe Venturini** con la contribución de Ian Daniher y Rob Crowther. El objetivo de esta implementación de SPICE y Python es el de realizar simulaciones de circuitos de una forma más sencilla y visible para el usuario, y entender qué está sucediendo en el circuito durante la simulación.\n",
    "La licencia que utiliza es GPL para libre uso y modificación personal. Sus versiones van de la v0.10 a la v0.18"
   ],
   "cell_type": "markdown",
   "metadata": {}
  },
  {
   "source": [
    "Estos son algunos de los comandos de instalación que posiblemente BORREEEEEEEEEEEEEEEEEEEEEEEEEEEEEEEEEEEEEEEEEEEEEEEEEEEEEEEEEEEEEEEE"
   ],
   "cell_type": "markdown",
   "metadata": {}
  },
  {
   "cell_type": "code",
   "execution_count": null,
   "metadata": {},
   "outputs": [],
   "source": [
    "!pip install ahkab"
   ]
  },
  {
   "cell_type": "code",
   "execution_count": null,
   "metadata": {},
   "outputs": [],
   "source": [
    "!conda install -y -c conda-forge matplotlib"
   ]
  },
  {
   "source": [
    "> `pylab` es un módulo/API de Python que incluye `matplotlib.pyplot` y `numpy` que aporta funciones adicionales, todo en un solo namespace"
   ],
   "cell_type": "markdown",
   "metadata": {}
  },
  {
   "source": [
    "## Circuitos sencillos para trabajar con la ley de Ohm\n",
    "Primero justificamos la naturaleza de ambos lados de la siguiente asignación:\n",
    "$$\n",
    "V = I\\cdot R\n",
    "$$\n",
    "$$\n",
    "V\\cdot \\mathrm{\\big(V \\big)} = I\\cdot \\mathrm{\\big(A \\big)}\\cdot R\\cdot \\mathrm{\\big(\\Omega \\big)}\n",
    "$$\n",
    "Sabiendo además, teniendo en cuenta la energía calórica en función del tiempo que se produce en el circuto es la POTENCIA:\n",
    "$$\n",
    "P = I\\cdot V\\, \\rightarrow P = I\\cdot \\big(I\\cdot R\\big)\\, \\rightarrow R = \\frac{P}{I^2}\n",
    "$$\n",
    "Juntamos toda la ecuación:\n",
    "$$\n",
    "V = I\\cdot \\frac{P}{I^2}\\, \\rightarrow V = \\frac{P}{I}\n",
    "$$\n",
    "Descomponemos en sus unidades fundamentales para comprobar la igualdad de la ecuación:\n",
    "$$\n",
    "V\\big(\\mathrm{V}\\big) = \\frac{P\\big(\\mathrm{W}\\big)}{I\\big(\\mathrm{A}\\big)}\n",
    "$$\n",
    "Sabiendo que:\n",
    "$$\n",
    "\\mathrm{V = \\frac{J}{C}}\\, \\rightarrow \\mathrm{W = \\frac{J}{s}}\n",
    "$$\n",
    "Entonces, volviendo a la ecuación de antes y sabiendo que $C = A\\cdot s$\n",
    "$$\n",
    "\\mathrm{\\frac{J}{C} = \\frac{J/s}{A}}\\, \\rightarrow \\mathrm{\\frac{N\\cdot m}{A\\cdot s} = \\frac{N\\cdot m}{A\\cdot s}}\n",
    "$$\n",
    "Verificamos entonces que las unidades en ambos lados de la igualdad son las mismas"
   ],
   "cell_type": "markdown",
   "metadata": {}
  },
  {
   "source": [
    "## Primera simulación del circuito eléctrico en corriente continua"
   ],
   "cell_type": "markdown",
   "metadata": {}
  },
  {
   "cell_type": "code",
   "execution_count": 94,
   "metadata": {},
   "outputs": [],
   "source": [
    "import pylab as plt\n",
    "import ahkab"
   ]
  },
  {
   "cell_type": "code",
   "execution_count": null,
   "metadata": {},
   "outputs": [],
   "source": [
    "%%writefile \"circuito sencillo.sp\"\n",
    "* Circuito de corriente continua\n",
    "r1 1 0 10\n",
    "v1 0 1 type=vdc vdc=9\n",
    ".op\n",
    ".dc v1 start=0 stop=9 step=1\n",
    ".end"
   ]
  },
  {
   "cell_type": "code",
   "execution_count": null,
   "metadata": {},
   "outputs": [],
   "source": [
    "# Leemos descripción del fichero con Ahkab, interpretamos y ejecutamos las simulaciones descritas\n",
    "circuito_y_analisis = ahkab.netlist_parser.parse_circuit('circuito sencillo.sp')\n",
    "# Separamos la información del netlist en componentes de los análisis (uno de tipo .op y otro de tipo .dc):\n",
    "circuito = circuito_y_analisis[0]\n",
    "analisis_en_netlist = circuito_y_analisis[1]\n",
    "lista_de_analisis = ahkab.netlist_parser.parse_analysis(circuito, analisis_en_netlist)\n",
    "print(lista_de_analisis)"
   ]
  },
  {
   "source": [
    "> `lista_de_analisis` Devuelve una lista de diccionarios, [referencia](https://ahkab.readthedocs.io/en/latest/netlist_parser.html#ahkab.netlist_parser.parse_analysis)."
   ],
   "cell_type": "markdown",
   "metadata": {}
  },
  {
   "cell_type": "code",
   "execution_count": null,
   "metadata": {},
   "outputs": [],
   "source": [
    "#Código condicional para realizar el archivo outfile cuando el tipo de análisis sea .dc ó .tran\n",
    "for i, value in enumerate(lista_de_analisis):\n",
    "    if \"dc\" in lista_de_analisis[i][\"type\"] or \"tran\" in lista_de_analisis[i][\"type\"]:\n",
    "        #print(lista_de_analisis[i])\n",
    "        lista_de_analisis[1]['outfile'] = \"simulacion dc.tsv\""
   ]
  },
  {
   "cell_type": "code",
   "execution_count": null,
   "metadata": {},
   "outputs": [],
   "source": [
    "[i for i, d in enumerate(lista_de_analisis) if \"dc\" in d.values()]\n",
    "resultados = ahkab.run(circuito, lista_de_analisis)\n",
    "print(resultados['dc'])\n"
   ]
  },
  {
   "cell_type": "code",
   "execution_count": null,
   "metadata": {},
   "outputs": [],
   "source": [
    "#print(resultados['dc'])\n",
    "print(resultados['dc'].keys())"
   ]
  },
  {
   "cell_type": "code",
   "execution_count": null,
   "metadata": {},
   "outputs": [],
   "source": [
    "figura = plt.figure()\n",
    "plt.title(\"Prueba DC\")\n",
    "plt.plot(resultados['dc']['V1'], resultados['dc']['I(V1)'], label= \"Voltaje (V1)\")\n",
    "plt.xlabel('Voltaje(V)')\n",
    "plt.ylabel('Intensidad(A)')"
   ]
  },
  {
   "cell_type": "code",
   "execution_count": null,
   "metadata": {},
   "outputs": [],
   "source": []
  },
  {
   "source": [
    "> Utilizamos la librería `mathplotlib` para dibujar la gráfica. En esta gráfica podemos comprobar que teniendo una constante de proporcionalidad $R$(Resistencia), cuanto mayor es el voltaje mayor es la intensidad del circuito.\n",
    "$$\n",
    "I = \\frac{V}{R}\n",
    "$$\n"
   ],
   "cell_type": "markdown",
   "metadata": {}
  },
  {
   "cell_type": "code",
   "execution_count": null,
   "metadata": {},
   "outputs": [],
   "source": [
    "print(resultados['op'].results)"
   ]
  },
  {
   "source": [
    "## Resolución con unidades (`Sympy`)"
   ],
   "cell_type": "markdown",
   "metadata": {}
  },
  {
   "source": [
    "from sympy.physics.units import ohms, amperes, volts\n",
    "from sympy.physics.units import convert_to\n",
    "from sympy import solve, symbols, Eq\n",
    "\n",
    "#Cogemos el voltaje del atributo de parada del análisis 'dc' porque coincide con el voltaje inicial y la intensidad resultante del análisis 'op'\n",
    "voltage=lista_de_analisis[1]['stop']*volts\n",
    "current_result=abs(resultados['op']['I(V1)'])*amperes\n",
    "\n",
    "resistence = 10*ohms\n",
    "# La intensidad es la incógnita a calcular\n",
    "current = symbols('i')\n",
    "law_ohm = Eq(voltage, current * resistence)\n",
    "#Resolvemos la Ley de Ohm. solution_current es el atributo de la Intensidad calculada por la fórmula\n",
    "solution_current = solve(law_ohm, current)\n",
    "# Convertimos a las mismas unidades ambos atributos. current_representation es el atributo de la Intensidad calculada por el análisis que realiza Ahkab\n",
    "solution_current[0] = convert_to(solution_current[0],[amperes]).n(2)\n",
    "current_representation = convert_to(current_result[0][0], [amperes]).n(2)\n",
    "# Comparamos si la intensidad calculada es la misma que la hallada por Ahkab por el análisis 'op' (Realizado anteriormente)\n",
    "if(solution_current[0] == current_representation):\n",
    "    print(\"Solución correcta\")"
   ],
   "cell_type": "code",
   "metadata": {},
   "execution_count": null,
   "outputs": []
  },
  {
   "cell_type": "code",
   "execution_count": null,
   "metadata": {},
   "outputs": [],
   "source": [
    "# Ahora calculamos las intensidades según el voltaje de 'dc', para ello reiniciamos la variable \"voltage\"\n",
    "voltage = lista_de_analisis[1]['start']*volts\n",
    "voltage_stop =int(lista_de_analisis[1]['stop']) \n",
    "while(i <= voltage_stop):\n",
    "  voltage +=1*volts\n",
    "  law_ohm = Eq(voltage, current * resistence)\n",
    "  # currents es el atributo de la intensidad calculada para diferenciarla de las intensidades utilizadas en el bloque anterior\n",
    "  currents=solve(law_ohm,current)\n",
    "  currents=convert_to(currents[0],[amperes]).n(2)\n",
    "  print(\"Voltaje[\",i,\"]\", voltage)\n",
    "  print(\"Intensidad de corriente[\",i,\"]\",currents)\n",
    "  i +=1\n",
    "# Queda confirmado que da el mismo resultado que el análisis 'dc' calculado anteriormente"
   ]
  },
  {
   "source": [
    "## Resolución del circuito en LTspice"
   ],
   "cell_type": "markdown",
   "metadata": {}
  },
  {
   "cell_type": "code",
   "execution_count": 95,
   "metadata": {},
   "outputs": [],
   "source": [
    "import platform\n",
    "%alias lts /Applications/LTspice.app/Contents/MacOS/LTspice -ascii -b\n",
    "if platform.system() == \"Windows\":\n",
    "    %alias lts \"C:\\Program Files\\LTC\\LTspiceXVII\\XVIIx64.exe\" -ascii -b"
   ]
  },
  {
   "source": [
    "El comando `-ascii` lo que hace es utilizar archivos ASCII de extebsión `.raw`, que son unos archivos parecidos a los `.outfile` que usamos en Ahkab.   \n",
    "El comando `-b` ejecutará el comando por lotes, de modo que no se necesita interacción por parte del usuario."
   ],
   "cell_type": "markdown",
   "metadata": {}
  },
  {
   "cell_type": "code",
   "execution_count": null,
   "metadata": {},
   "outputs": [],
   "source": [
    "%%writefile \"circuito sencillo.net\"\n",
    "* Este es un circuito de corriente continua adaptado para LTspice\n",
    "r1 1 0 100\n",
    "v1 0 1 9\n",
    ".op\n",
    "* Comentamos el análisis .dc para centrarnos primero en el .op\n",
    "* .dc v1 1 10\n",
    ".end"
   ]
  },
  {
   "cell_type": "code",
   "execution_count": null,
   "metadata": {},
   "outputs": [],
   "source": [
    "lts \"circuito sencillo.net\""
   ]
  },
  {
   "cell_type": "code",
   "execution_count": 98,
   "metadata": {},
   "outputs": [
    {
     "output_type": "stream",
     "text": [
      "\u001b[0mCircuit\u001b[0m\u001b[1;33m:\u001b[0m \u001b[1;33m*\u001b[0m \u001b[0mEste\u001b[0m \u001b[0mes\u001b[0m \u001b[0mun\u001b[0m \u001b[0mcircuito\u001b[0m \u001b[0mde\u001b[0m \u001b[0mcorriente\u001b[0m \u001b[0mcontinua\u001b[0m \u001b[0madaptado\u001b[0m \u001b[0mpara\u001b[0m \u001b[0mLTspice\u001b[0m\u001b[1;33m\n",
      "\u001b[0m\u001b[1;33m\n",
      "\u001b[0m\u001b[1;33m\n",
      "\u001b[0m\u001b[0mDate\u001b[0m\u001b[1;33m:\u001b[0m \u001b[0mWed\u001b[0m \u001b[0mJan\u001b[0m \u001b[1;36m0\u001b[0m\u001b[1;36m6\u001b[0m \u001b[1;36m21\u001b[0m\u001b[1;33m:\u001b[0m\u001b[1;36m21\u001b[0m\u001b[1;33m:\u001b[0m\u001b[1;36m0\u001b[0m\u001b[1;36m4\u001b[0m \u001b[1;36m2021\u001b[0m\u001b[1;33m\n",
      "\u001b[0m\u001b[0mTotal\u001b[0m \u001b[0melapsed\u001b[0m \u001b[0mtime\u001b[0m\u001b[1;33m:\u001b[0m \u001b[1;36m0.018\u001b[0m \u001b[0mseconds\u001b[0m\u001b[1;33m.\u001b[0m\u001b[1;33m\n",
      "\u001b[0m\u001b[1;33m\n",
      "\u001b[0m\u001b[0mtnom\u001b[0m \u001b[1;33m=\u001b[0m \u001b[1;36m27\u001b[0m\u001b[1;33m\n",
      "\u001b[0m\u001b[0mtemp\u001b[0m \u001b[1;33m=\u001b[0m \u001b[1;36m27\u001b[0m\u001b[1;33m\n",
      "\u001b[0m\u001b[0mmethod\u001b[0m \u001b[1;33m=\u001b[0m \u001b[0mtrap\u001b[0m\u001b[1;33m\n",
      "\u001b[0m\u001b[0mtotiter\u001b[0m \u001b[1;33m=\u001b[0m \u001b[1;36m2003\u001b[0m\u001b[1;33m\n",
      "\u001b[0m\u001b[0mtraniter\u001b[0m \u001b[1;33m=\u001b[0m \u001b[1;36m0\u001b[0m\u001b[1;33m\n",
      "\u001b[0m\u001b[0mtranpoints\u001b[0m \u001b[1;33m=\u001b[0m \u001b[1;36m0\u001b[0m\u001b[1;33m\n",
      "\u001b[0m\u001b[0maccept\u001b[0m \u001b[1;33m=\u001b[0m \u001b[1;36m0\u001b[0m\u001b[1;33m\n",
      "\u001b[0m\u001b[0mrejected\u001b[0m \u001b[1;33m=\u001b[0m \u001b[1;36m0\u001b[0m\u001b[1;33m\n",
      "\u001b[0m\u001b[0mmatrix\u001b[0m \u001b[0msize\u001b[0m \u001b[1;33m=\u001b[0m \u001b[1;36m2\u001b[0m\u001b[1;33m\n",
      "\u001b[0m\u001b[0mfillins\u001b[0m \u001b[1;33m=\u001b[0m \u001b[1;36m0\u001b[0m\u001b[1;33m\n",
      "\u001b[0m\u001b[0msolver\u001b[0m \u001b[1;33m=\u001b[0m \u001b[0mNormal\u001b[0m\u001b[1;33m\n",
      "\u001b[0m\u001b[0mMatrix\u001b[0m \u001b[0mCompiler1\u001b[0m\u001b[1;33m:\u001b[0m       \u001b[1;36m2\u001b[0m \u001b[0mopcodes\u001b[0m  \u001b[1;36m0.0\u001b[0m\u001b[1;33m/\u001b[0m\u001b[1;33m[\u001b[0m\u001b[1;36m0.0\u001b[0m\u001b[1;33m]\u001b[0m\u001b[1;33m/\u001b[0m\u001b[1;36m0.0\u001b[0m\u001b[1;33m\n",
      "\u001b[0m\u001b[0mMatrix\u001b[0m \u001b[0mCompiler2\u001b[0m\u001b[1;33m:\u001b[0m       \u001b[1;36m9\u001b[0m \u001b[0mopcodes\u001b[0m  \u001b[1;36m0.0\u001b[0m\u001b[1;33m/\u001b[0m\u001b[1;33m[\u001b[0m\u001b[1;36m0.0\u001b[0m\u001b[1;33m]\u001b[0m\u001b[1;33m/\u001b[0m\u001b[1;36m0.0\u001b[0m\u001b[1;33m\u001b[0m\u001b[1;33m\u001b[0m\u001b[0m\n"
     ],
     "name": "stdout"
    }
   ],
   "source": [
    "%pycat circuito sencillo.log"
   ]
  },
  {
   "cell_type": "code",
   "execution_count": null,
   "metadata": {},
   "outputs": [],
   "source": [
    "%%writefile \"circuito sencillo.net\"\n",
    "* Este es un circuito de corriente continua adaptado para LTspice\n",
    "r1 1 0 100\n",
    "v1 0 1 9\n",
    "* .op\n",
    "* Comentamos el análisis .dc para centrarnos primero en el .op\n",
    ".dc v1 1 10\n",
    ".end"
   ]
  },
  {
   "cell_type": "code",
   "execution_count": 97,
   "metadata": {},
   "outputs": [],
   "source": [
    "lts \"circuito sencillo.net\""
   ]
  },
  {
   "cell_type": "code",
   "execution_count": null,
   "metadata": {},
   "outputs": [],
   "source": [
    "!pip install ltspice"
   ]
  },
  {
   "cell_type": "code",
   "execution_count": 96,
   "metadata": {},
   "outputs": [
    {
     "output_type": "execute_result",
     "data": {
      "text/plain": [
       "Text(0, 0.5, 'Voltaje (V)')"
      ]
     },
     "metadata": {},
     "execution_count": 96
    },
    {
     "output_type": "display_data",
     "data": {
      "text/plain": "<Figure size 432x288 with 1 Axes>",
      "image/svg+xml": "<?xml version=\"1.0\" encoding=\"utf-8\" standalone=\"no\"?>\r\n<!DOCTYPE svg PUBLIC \"-//W3C//DTD SVG 1.1//EN\"\r\n  \"http://www.w3.org/Graphics/SVG/1.1/DTD/svg11.dtd\">\r\n<!-- Created with matplotlib (https://matplotlib.org/) -->\r\n<svg height=\"279.25pt\" version=\"1.1\" viewBox=\"0 0 394.061094 279.25\" width=\"394.061094pt\" xmlns=\"http://www.w3.org/2000/svg\" xmlns:xlink=\"http://www.w3.org/1999/xlink\">\r\n <defs>\r\n  <style type=\"text/css\">\r\n*{stroke-linecap:butt;stroke-linejoin:round;}\r\n  </style>\r\n </defs>\r\n <g id=\"figure_1\">\r\n  <g id=\"patch_1\">\r\n   <path d=\"M 0 279.25 \r\nL 394.061094 279.25 \r\nL 394.061094 0 \r\nL 0 0 \r\nz\r\n\" style=\"fill:none;\"/>\r\n  </g>\r\n  <g id=\"axes_1\">\r\n   <g id=\"patch_2\">\r\n    <path d=\"M 52.061094 239.758125 \r\nL 386.861094 239.758125 \r\nL 386.861094 22.318125 \r\nL 52.061094 22.318125 \r\nz\r\n\" style=\"fill:#ffffff;\"/>\r\n   </g>\r\n   <g id=\"matplotlib.axis_1\">\r\n    <g id=\"xtick_1\">\r\n     <g id=\"line2d_1\">\r\n      <defs>\r\n       <path d=\"M 0 0 \r\nL 0 3.5 \r\n\" id=\"m39117759d0\" style=\"stroke:#000000;stroke-width:0.8;\"/>\r\n      </defs>\r\n      <g>\r\n       <use style=\"stroke:#000000;stroke-width:0.8;\" x=\"101.097457\" xlink:href=\"#m39117759d0\" y=\"239.758125\"/>\r\n      </g>\r\n     </g>\r\n     <g id=\"text_1\">\r\n      <!-- 2 -->\r\n      <defs>\r\n       <path d=\"M 19.1875 8.296875 \r\nL 53.609375 8.296875 \r\nL 53.609375 0 \r\nL 7.328125 0 \r\nL 7.328125 8.296875 \r\nQ 12.9375 14.109375 22.625 23.890625 \r\nQ 32.328125 33.6875 34.8125 36.53125 \r\nQ 39.546875 41.84375 41.421875 45.53125 \r\nQ 43.3125 49.21875 43.3125 52.78125 \r\nQ 43.3125 58.59375 39.234375 62.25 \r\nQ 35.15625 65.921875 28.609375 65.921875 \r\nQ 23.96875 65.921875 18.8125 64.3125 \r\nQ 13.671875 62.703125 7.8125 59.421875 \r\nL 7.8125 69.390625 \r\nQ 13.765625 71.78125 18.9375 73 \r\nQ 24.125 74.21875 28.421875 74.21875 \r\nQ 39.75 74.21875 46.484375 68.546875 \r\nQ 53.21875 62.890625 53.21875 53.421875 \r\nQ 53.21875 48.921875 51.53125 44.890625 \r\nQ 49.859375 40.875 45.40625 35.40625 \r\nQ 44.1875 33.984375 37.640625 27.21875 \r\nQ 31.109375 20.453125 19.1875 8.296875 \r\nz\r\n\" id=\"DejaVuSans-50\"/>\r\n      </defs>\r\n      <g transform=\"translate(97.598082 255.116406)scale(0.11 -0.11)\">\r\n       <use xlink:href=\"#DejaVuSans-50\"/>\r\n      </g>\r\n     </g>\r\n    </g>\r\n    <g id=\"xtick_2\">\r\n     <g id=\"line2d_2\">\r\n      <g>\r\n       <use style=\"stroke:#000000;stroke-width:0.8;\" x=\"168.733821\" xlink:href=\"#m39117759d0\" y=\"239.758125\"/>\r\n      </g>\r\n     </g>\r\n     <g id=\"text_2\">\r\n      <!-- 4 -->\r\n      <defs>\r\n       <path d=\"M 37.796875 64.3125 \r\nL 12.890625 25.390625 \r\nL 37.796875 25.390625 \r\nz\r\nM 35.203125 72.90625 \r\nL 47.609375 72.90625 \r\nL 47.609375 25.390625 \r\nL 58.015625 25.390625 \r\nL 58.015625 17.1875 \r\nL 47.609375 17.1875 \r\nL 47.609375 0 \r\nL 37.796875 0 \r\nL 37.796875 17.1875 \r\nL 4.890625 17.1875 \r\nL 4.890625 26.703125 \r\nz\r\n\" id=\"DejaVuSans-52\"/>\r\n      </defs>\r\n      <g transform=\"translate(165.234446 255.116406)scale(0.11 -0.11)\">\r\n       <use xlink:href=\"#DejaVuSans-52\"/>\r\n      </g>\r\n     </g>\r\n    </g>\r\n    <g id=\"xtick_3\">\r\n     <g id=\"line2d_3\">\r\n      <g>\r\n       <use style=\"stroke:#000000;stroke-width:0.8;\" x=\"236.370185\" xlink:href=\"#m39117759d0\" y=\"239.758125\"/>\r\n      </g>\r\n     </g>\r\n     <g id=\"text_3\">\r\n      <!-- 6 -->\r\n      <defs>\r\n       <path d=\"M 33.015625 40.375 \r\nQ 26.375 40.375 22.484375 35.828125 \r\nQ 18.609375 31.296875 18.609375 23.390625 \r\nQ 18.609375 15.53125 22.484375 10.953125 \r\nQ 26.375 6.390625 33.015625 6.390625 \r\nQ 39.65625 6.390625 43.53125 10.953125 \r\nQ 47.40625 15.53125 47.40625 23.390625 \r\nQ 47.40625 31.296875 43.53125 35.828125 \r\nQ 39.65625 40.375 33.015625 40.375 \r\nz\r\nM 52.59375 71.296875 \r\nL 52.59375 62.3125 \r\nQ 48.875 64.0625 45.09375 64.984375 \r\nQ 41.3125 65.921875 37.59375 65.921875 \r\nQ 27.828125 65.921875 22.671875 59.328125 \r\nQ 17.53125 52.734375 16.796875 39.40625 \r\nQ 19.671875 43.65625 24.015625 45.921875 \r\nQ 28.375 48.1875 33.59375 48.1875 \r\nQ 44.578125 48.1875 50.953125 41.515625 \r\nQ 57.328125 34.859375 57.328125 23.390625 \r\nQ 57.328125 12.15625 50.6875 5.359375 \r\nQ 44.046875 -1.421875 33.015625 -1.421875 \r\nQ 20.359375 -1.421875 13.671875 8.265625 \r\nQ 6.984375 17.96875 6.984375 36.375 \r\nQ 6.984375 53.65625 15.1875 63.9375 \r\nQ 23.390625 74.21875 37.203125 74.21875 \r\nQ 40.921875 74.21875 44.703125 73.484375 \r\nQ 48.484375 72.75 52.59375 71.296875 \r\nz\r\n\" id=\"DejaVuSans-54\"/>\r\n      </defs>\r\n      <g transform=\"translate(232.87081 255.116406)scale(0.11 -0.11)\">\r\n       <use xlink:href=\"#DejaVuSans-54\"/>\r\n      </g>\r\n     </g>\r\n    </g>\r\n    <g id=\"xtick_4\">\r\n     <g id=\"line2d_4\">\r\n      <g>\r\n       <use style=\"stroke:#000000;stroke-width:0.8;\" x=\"304.006548\" xlink:href=\"#m39117759d0\" y=\"239.758125\"/>\r\n      </g>\r\n     </g>\r\n     <g id=\"text_4\">\r\n      <!-- 8 -->\r\n      <defs>\r\n       <path d=\"M 31.78125 34.625 \r\nQ 24.75 34.625 20.71875 30.859375 \r\nQ 16.703125 27.09375 16.703125 20.515625 \r\nQ 16.703125 13.921875 20.71875 10.15625 \r\nQ 24.75 6.390625 31.78125 6.390625 \r\nQ 38.8125 6.390625 42.859375 10.171875 \r\nQ 46.921875 13.96875 46.921875 20.515625 \r\nQ 46.921875 27.09375 42.890625 30.859375 \r\nQ 38.875 34.625 31.78125 34.625 \r\nz\r\nM 21.921875 38.8125 \r\nQ 15.578125 40.375 12.03125 44.71875 \r\nQ 8.5 49.078125 8.5 55.328125 \r\nQ 8.5 64.0625 14.71875 69.140625 \r\nQ 20.953125 74.21875 31.78125 74.21875 \r\nQ 42.671875 74.21875 48.875 69.140625 \r\nQ 55.078125 64.0625 55.078125 55.328125 \r\nQ 55.078125 49.078125 51.53125 44.71875 \r\nQ 48 40.375 41.703125 38.8125 \r\nQ 48.828125 37.15625 52.796875 32.3125 \r\nQ 56.78125 27.484375 56.78125 20.515625 \r\nQ 56.78125 9.90625 50.3125 4.234375 \r\nQ 43.84375 -1.421875 31.78125 -1.421875 \r\nQ 19.734375 -1.421875 13.25 4.234375 \r\nQ 6.78125 9.90625 6.78125 20.515625 \r\nQ 6.78125 27.484375 10.78125 32.3125 \r\nQ 14.796875 37.15625 21.921875 38.8125 \r\nz\r\nM 18.3125 54.390625 \r\nQ 18.3125 48.734375 21.84375 45.5625 \r\nQ 25.390625 42.390625 31.78125 42.390625 \r\nQ 38.140625 42.390625 41.71875 45.5625 \r\nQ 45.3125 48.734375 45.3125 54.390625 \r\nQ 45.3125 60.0625 41.71875 63.234375 \r\nQ 38.140625 66.40625 31.78125 66.40625 \r\nQ 25.390625 66.40625 21.84375 63.234375 \r\nQ 18.3125 60.0625 18.3125 54.390625 \r\nz\r\n\" id=\"DejaVuSans-56\"/>\r\n      </defs>\r\n      <g transform=\"translate(300.507173 255.116406)scale(0.11 -0.11)\">\r\n       <use xlink:href=\"#DejaVuSans-56\"/>\r\n      </g>\r\n     </g>\r\n    </g>\r\n    <g id=\"xtick_5\">\r\n     <g id=\"line2d_5\">\r\n      <g>\r\n       <use style=\"stroke:#000000;stroke-width:0.8;\" x=\"371.642912\" xlink:href=\"#m39117759d0\" y=\"239.758125\"/>\r\n      </g>\r\n     </g>\r\n     <g id=\"text_5\">\r\n      <!-- 10 -->\r\n      <defs>\r\n       <path d=\"M 12.40625 8.296875 \r\nL 28.515625 8.296875 \r\nL 28.515625 63.921875 \r\nL 10.984375 60.40625 \r\nL 10.984375 69.390625 \r\nL 28.421875 72.90625 \r\nL 38.28125 72.90625 \r\nL 38.28125 8.296875 \r\nL 54.390625 8.296875 \r\nL 54.390625 0 \r\nL 12.40625 0 \r\nz\r\n\" id=\"DejaVuSans-49\"/>\r\n       <path d=\"M 31.78125 66.40625 \r\nQ 24.171875 66.40625 20.328125 58.90625 \r\nQ 16.5 51.421875 16.5 36.375 \r\nQ 16.5 21.390625 20.328125 13.890625 \r\nQ 24.171875 6.390625 31.78125 6.390625 \r\nQ 39.453125 6.390625 43.28125 13.890625 \r\nQ 47.125 21.390625 47.125 36.375 \r\nQ 47.125 51.421875 43.28125 58.90625 \r\nQ 39.453125 66.40625 31.78125 66.40625 \r\nz\r\nM 31.78125 74.21875 \r\nQ 44.046875 74.21875 50.515625 64.515625 \r\nQ 56.984375 54.828125 56.984375 36.375 \r\nQ 56.984375 17.96875 50.515625 8.265625 \r\nQ 44.046875 -1.421875 31.78125 -1.421875 \r\nQ 19.53125 -1.421875 13.0625 8.265625 \r\nQ 6.59375 17.96875 6.59375 36.375 \r\nQ 6.59375 54.828125 13.0625 64.515625 \r\nQ 19.53125 74.21875 31.78125 74.21875 \r\nz\r\n\" id=\"DejaVuSans-48\"/>\r\n      </defs>\r\n      <g transform=\"translate(364.644162 255.116406)scale(0.11 -0.11)\">\r\n       <use xlink:href=\"#DejaVuSans-49\"/>\r\n       <use x=\"63.623047\" xlink:href=\"#DejaVuSans-48\"/>\r\n      </g>\r\n     </g>\r\n    </g>\r\n    <g id=\"text_6\">\r\n     <!-- Tiempo (s) -->\r\n     <defs>\r\n      <path d=\"M -0.296875 72.90625 \r\nL 61.375 72.90625 \r\nL 61.375 64.59375 \r\nL 35.5 64.59375 \r\nL 35.5 0 \r\nL 25.59375 0 \r\nL 25.59375 64.59375 \r\nL -0.296875 64.59375 \r\nz\r\n\" id=\"DejaVuSans-84\"/>\r\n      <path d=\"M 9.421875 54.6875 \r\nL 18.40625 54.6875 \r\nL 18.40625 0 \r\nL 9.421875 0 \r\nz\r\nM 9.421875 75.984375 \r\nL 18.40625 75.984375 \r\nL 18.40625 64.59375 \r\nL 9.421875 64.59375 \r\nz\r\n\" id=\"DejaVuSans-105\"/>\r\n      <path d=\"M 56.203125 29.59375 \r\nL 56.203125 25.203125 \r\nL 14.890625 25.203125 \r\nQ 15.484375 15.921875 20.484375 11.0625 \r\nQ 25.484375 6.203125 34.421875 6.203125 \r\nQ 39.59375 6.203125 44.453125 7.46875 \r\nQ 49.3125 8.734375 54.109375 11.28125 \r\nL 54.109375 2.78125 \r\nQ 49.265625 0.734375 44.1875 -0.34375 \r\nQ 39.109375 -1.421875 33.890625 -1.421875 \r\nQ 20.796875 -1.421875 13.15625 6.1875 \r\nQ 5.515625 13.8125 5.515625 26.8125 \r\nQ 5.515625 40.234375 12.765625 48.109375 \r\nQ 20.015625 56 32.328125 56 \r\nQ 43.359375 56 49.78125 48.890625 \r\nQ 56.203125 41.796875 56.203125 29.59375 \r\nz\r\nM 47.21875 32.234375 \r\nQ 47.125 39.59375 43.09375 43.984375 \r\nQ 39.0625 48.390625 32.421875 48.390625 \r\nQ 24.90625 48.390625 20.390625 44.140625 \r\nQ 15.875 39.890625 15.1875 32.171875 \r\nz\r\n\" id=\"DejaVuSans-101\"/>\r\n      <path d=\"M 52 44.1875 \r\nQ 55.375 50.25 60.0625 53.125 \r\nQ 64.75 56 71.09375 56 \r\nQ 79.640625 56 84.28125 50.015625 \r\nQ 88.921875 44.046875 88.921875 33.015625 \r\nL 88.921875 0 \r\nL 79.890625 0 \r\nL 79.890625 32.71875 \r\nQ 79.890625 40.578125 77.09375 44.375 \r\nQ 74.3125 48.1875 68.609375 48.1875 \r\nQ 61.625 48.1875 57.5625 43.546875 \r\nQ 53.515625 38.921875 53.515625 30.90625 \r\nL 53.515625 0 \r\nL 44.484375 0 \r\nL 44.484375 32.71875 \r\nQ 44.484375 40.625 41.703125 44.40625 \r\nQ 38.921875 48.1875 33.109375 48.1875 \r\nQ 26.21875 48.1875 22.15625 43.53125 \r\nQ 18.109375 38.875 18.109375 30.90625 \r\nL 18.109375 0 \r\nL 9.078125 0 \r\nL 9.078125 54.6875 \r\nL 18.109375 54.6875 \r\nL 18.109375 46.1875 \r\nQ 21.1875 51.21875 25.484375 53.609375 \r\nQ 29.78125 56 35.6875 56 \r\nQ 41.65625 56 45.828125 52.96875 \r\nQ 50 49.953125 52 44.1875 \r\nz\r\n\" id=\"DejaVuSans-109\"/>\r\n      <path d=\"M 18.109375 8.203125 \r\nL 18.109375 -20.796875 \r\nL 9.078125 -20.796875 \r\nL 9.078125 54.6875 \r\nL 18.109375 54.6875 \r\nL 18.109375 46.390625 \r\nQ 20.953125 51.265625 25.265625 53.625 \r\nQ 29.59375 56 35.59375 56 \r\nQ 45.5625 56 51.78125 48.09375 \r\nQ 58.015625 40.1875 58.015625 27.296875 \r\nQ 58.015625 14.40625 51.78125 6.484375 \r\nQ 45.5625 -1.421875 35.59375 -1.421875 \r\nQ 29.59375 -1.421875 25.265625 0.953125 \r\nQ 20.953125 3.328125 18.109375 8.203125 \r\nz\r\nM 48.6875 27.296875 \r\nQ 48.6875 37.203125 44.609375 42.84375 \r\nQ 40.53125 48.484375 33.40625 48.484375 \r\nQ 26.265625 48.484375 22.1875 42.84375 \r\nQ 18.109375 37.203125 18.109375 27.296875 \r\nQ 18.109375 17.390625 22.1875 11.75 \r\nQ 26.265625 6.109375 33.40625 6.109375 \r\nQ 40.53125 6.109375 44.609375 11.75 \r\nQ 48.6875 17.390625 48.6875 27.296875 \r\nz\r\n\" id=\"DejaVuSans-112\"/>\r\n      <path d=\"M 30.609375 48.390625 \r\nQ 23.390625 48.390625 19.1875 42.75 \r\nQ 14.984375 37.109375 14.984375 27.296875 \r\nQ 14.984375 17.484375 19.15625 11.84375 \r\nQ 23.34375 6.203125 30.609375 6.203125 \r\nQ 37.796875 6.203125 41.984375 11.859375 \r\nQ 46.1875 17.53125 46.1875 27.296875 \r\nQ 46.1875 37.015625 41.984375 42.703125 \r\nQ 37.796875 48.390625 30.609375 48.390625 \r\nz\r\nM 30.609375 56 \r\nQ 42.328125 56 49.015625 48.375 \r\nQ 55.71875 40.765625 55.71875 27.296875 \r\nQ 55.71875 13.875 49.015625 6.21875 \r\nQ 42.328125 -1.421875 30.609375 -1.421875 \r\nQ 18.84375 -1.421875 12.171875 6.21875 \r\nQ 5.515625 13.875 5.515625 27.296875 \r\nQ 5.515625 40.765625 12.171875 48.375 \r\nQ 18.84375 56 30.609375 56 \r\nz\r\n\" id=\"DejaVuSans-111\"/>\r\n      <path id=\"DejaVuSans-32\"/>\r\n      <path d=\"M 31 75.875 \r\nQ 24.46875 64.65625 21.28125 53.65625 \r\nQ 18.109375 42.671875 18.109375 31.390625 \r\nQ 18.109375 20.125 21.3125 9.0625 \r\nQ 24.515625 -2 31 -13.1875 \r\nL 23.1875 -13.1875 \r\nQ 15.875 -1.703125 12.234375 9.375 \r\nQ 8.59375 20.453125 8.59375 31.390625 \r\nQ 8.59375 42.28125 12.203125 53.3125 \r\nQ 15.828125 64.359375 23.1875 75.875 \r\nz\r\n\" id=\"DejaVuSans-40\"/>\r\n      <path d=\"M 44.28125 53.078125 \r\nL 44.28125 44.578125 \r\nQ 40.484375 46.53125 36.375 47.5 \r\nQ 32.28125 48.484375 27.875 48.484375 \r\nQ 21.1875 48.484375 17.84375 46.4375 \r\nQ 14.5 44.390625 14.5 40.28125 \r\nQ 14.5 37.15625 16.890625 35.375 \r\nQ 19.28125 33.59375 26.515625 31.984375 \r\nL 29.59375 31.296875 \r\nQ 39.15625 29.25 43.1875 25.515625 \r\nQ 47.21875 21.78125 47.21875 15.09375 \r\nQ 47.21875 7.46875 41.1875 3.015625 \r\nQ 35.15625 -1.421875 24.609375 -1.421875 \r\nQ 20.21875 -1.421875 15.453125 -0.5625 \r\nQ 10.6875 0.296875 5.421875 2 \r\nL 5.421875 11.28125 \r\nQ 10.40625 8.6875 15.234375 7.390625 \r\nQ 20.0625 6.109375 24.8125 6.109375 \r\nQ 31.15625 6.109375 34.5625 8.28125 \r\nQ 37.984375 10.453125 37.984375 14.40625 \r\nQ 37.984375 18.0625 35.515625 20.015625 \r\nQ 33.0625 21.96875 24.703125 23.78125 \r\nL 21.578125 24.515625 \r\nQ 13.234375 26.265625 9.515625 29.90625 \r\nQ 5.8125 33.546875 5.8125 39.890625 \r\nQ 5.8125 47.609375 11.28125 51.796875 \r\nQ 16.75 56 26.8125 56 \r\nQ 31.78125 56 36.171875 55.265625 \r\nQ 40.578125 54.546875 44.28125 53.078125 \r\nz\r\n\" id=\"DejaVuSans-115\"/>\r\n      <path d=\"M 8.015625 75.875 \r\nL 15.828125 75.875 \r\nQ 23.140625 64.359375 26.78125 53.3125 \r\nQ 30.421875 42.28125 30.421875 31.390625 \r\nQ 30.421875 20.453125 26.78125 9.375 \r\nQ 23.140625 -1.703125 15.828125 -13.1875 \r\nL 8.015625 -13.1875 \r\nQ 14.5 -2 17.703125 9.0625 \r\nQ 20.90625 20.125 20.90625 31.390625 \r\nQ 20.90625 42.671875 17.703125 53.65625 \r\nQ 14.5 64.65625 8.015625 75.875 \r\nz\r\n\" id=\"DejaVuSans-41\"/>\r\n     </defs>\r\n     <g transform=\"translate(190.242344 269.762344)scale(0.11 -0.11)\">\r\n      <use xlink:href=\"#DejaVuSans-84\"/>\r\n      <use x=\"57.958984\" xlink:href=\"#DejaVuSans-105\"/>\r\n      <use x=\"85.742188\" xlink:href=\"#DejaVuSans-101\"/>\r\n      <use x=\"147.265625\" xlink:href=\"#DejaVuSans-109\"/>\r\n      <use x=\"244.677734\" xlink:href=\"#DejaVuSans-112\"/>\r\n      <use x=\"308.154297\" xlink:href=\"#DejaVuSans-111\"/>\r\n      <use x=\"369.335938\" xlink:href=\"#DejaVuSans-32\"/>\r\n      <use x=\"401.123047\" xlink:href=\"#DejaVuSans-40\"/>\r\n      <use x=\"440.136719\" xlink:href=\"#DejaVuSans-115\"/>\r\n      <use x=\"492.236328\" xlink:href=\"#DejaVuSans-41\"/>\r\n     </g>\r\n    </g>\r\n   </g>\r\n   <g id=\"matplotlib.axis_2\">\r\n    <g id=\"ytick_1\">\r\n     <g id=\"line2d_6\">\r\n      <defs>\r\n       <path d=\"M 0 0 \r\nL -3.5 0 \r\n\" id=\"m8acc7f3be1\" style=\"stroke:#000000;stroke-width:0.8;\"/>\r\n      </defs>\r\n      <g>\r\n       <use style=\"stroke:#000000;stroke-width:0.8;\" x=\"52.061094\" xlink:href=\"#m8acc7f3be1\" y=\"229.874489\"/>\r\n      </g>\r\n     </g>\r\n     <g id=\"text_7\">\r\n      <!-- −10 -->\r\n      <defs>\r\n       <path d=\"M 10.59375 35.5 \r\nL 73.1875 35.5 \r\nL 73.1875 27.203125 \r\nL 10.59375 27.203125 \r\nz\r\n\" id=\"DejaVuSans-8722\"/>\r\n      </defs>\r\n      <g transform=\"translate(21.845938 234.053629)scale(0.11 -0.11)\">\r\n       <use xlink:href=\"#DejaVuSans-8722\"/>\r\n       <use x=\"83.789062\" xlink:href=\"#DejaVuSans-49\"/>\r\n       <use x=\"147.412109\" xlink:href=\"#DejaVuSans-48\"/>\r\n      </g>\r\n     </g>\r\n    </g>\r\n    <g id=\"ytick_2\">\r\n     <g id=\"line2d_7\">\r\n      <g>\r\n       <use style=\"stroke:#000000;stroke-width:0.8;\" x=\"52.061094\" xlink:href=\"#m8acc7f3be1\" y=\"185.947216\"/>\r\n      </g>\r\n     </g>\r\n     <g id=\"text_8\">\r\n      <!-- −8 -->\r\n      <g transform=\"translate(28.844688 190.126357)scale(0.11 -0.11)\">\r\n       <use xlink:href=\"#DejaVuSans-8722\"/>\r\n       <use x=\"83.789062\" xlink:href=\"#DejaVuSans-56\"/>\r\n      </g>\r\n     </g>\r\n    </g>\r\n    <g id=\"ytick_3\">\r\n     <g id=\"line2d_8\">\r\n      <g>\r\n       <use style=\"stroke:#000000;stroke-width:0.8;\" x=\"52.061094\" xlink:href=\"#m8acc7f3be1\" y=\"142.019943\"/>\r\n      </g>\r\n     </g>\r\n     <g id=\"text_9\">\r\n      <!-- −6 -->\r\n      <g transform=\"translate(28.844688 146.199084)scale(0.11 -0.11)\">\r\n       <use xlink:href=\"#DejaVuSans-8722\"/>\r\n       <use x=\"83.789062\" xlink:href=\"#DejaVuSans-54\"/>\r\n      </g>\r\n     </g>\r\n    </g>\r\n    <g id=\"ytick_4\">\r\n     <g id=\"line2d_9\">\r\n      <g>\r\n       <use style=\"stroke:#000000;stroke-width:0.8;\" x=\"52.061094\" xlink:href=\"#m8acc7f3be1\" y=\"98.09267\"/>\r\n      </g>\r\n     </g>\r\n     <g id=\"text_10\">\r\n      <!-- −4 -->\r\n      <g transform=\"translate(28.844688 102.271811)scale(0.11 -0.11)\">\r\n       <use xlink:href=\"#DejaVuSans-8722\"/>\r\n       <use x=\"83.789062\" xlink:href=\"#DejaVuSans-52\"/>\r\n      </g>\r\n     </g>\r\n    </g>\r\n    <g id=\"ytick_5\">\r\n     <g id=\"line2d_10\">\r\n      <g>\r\n       <use style=\"stroke:#000000;stroke-width:0.8;\" x=\"52.061094\" xlink:href=\"#m8acc7f3be1\" y=\"54.165398\"/>\r\n      </g>\r\n     </g>\r\n     <g id=\"text_11\">\r\n      <!-- −2 -->\r\n      <g transform=\"translate(28.844688 58.344538)scale(0.11 -0.11)\">\r\n       <use xlink:href=\"#DejaVuSans-8722\"/>\r\n       <use x=\"83.789062\" xlink:href=\"#DejaVuSans-50\"/>\r\n      </g>\r\n     </g>\r\n    </g>\r\n    <g id=\"text_12\">\r\n     <!-- Voltaje (V) -->\r\n     <defs>\r\n      <path d=\"M 28.609375 0 \r\nL 0.78125 72.90625 \r\nL 11.078125 72.90625 \r\nL 34.1875 11.53125 \r\nL 57.328125 72.90625 \r\nL 67.578125 72.90625 \r\nL 39.796875 0 \r\nz\r\n\" id=\"DejaVuSans-86\"/>\r\n      <path d=\"M 9.421875 75.984375 \r\nL 18.40625 75.984375 \r\nL 18.40625 0 \r\nL 9.421875 0 \r\nz\r\n\" id=\"DejaVuSans-108\"/>\r\n      <path d=\"M 18.3125 70.21875 \r\nL 18.3125 54.6875 \r\nL 36.8125 54.6875 \r\nL 36.8125 47.703125 \r\nL 18.3125 47.703125 \r\nL 18.3125 18.015625 \r\nQ 18.3125 11.328125 20.140625 9.421875 \r\nQ 21.96875 7.515625 27.59375 7.515625 \r\nL 36.8125 7.515625 \r\nL 36.8125 0 \r\nL 27.59375 0 \r\nQ 17.1875 0 13.234375 3.875 \r\nQ 9.28125 7.765625 9.28125 18.015625 \r\nL 9.28125 47.703125 \r\nL 2.6875 47.703125 \r\nL 2.6875 54.6875 \r\nL 9.28125 54.6875 \r\nL 9.28125 70.21875 \r\nz\r\n\" id=\"DejaVuSans-116\"/>\r\n      <path d=\"M 34.28125 27.484375 \r\nQ 23.390625 27.484375 19.1875 25 \r\nQ 14.984375 22.515625 14.984375 16.5 \r\nQ 14.984375 11.71875 18.140625 8.90625 \r\nQ 21.296875 6.109375 26.703125 6.109375 \r\nQ 34.1875 6.109375 38.703125 11.40625 \r\nQ 43.21875 16.703125 43.21875 25.484375 \r\nL 43.21875 27.484375 \r\nz\r\nM 52.203125 31.203125 \r\nL 52.203125 0 \r\nL 43.21875 0 \r\nL 43.21875 8.296875 \r\nQ 40.140625 3.328125 35.546875 0.953125 \r\nQ 30.953125 -1.421875 24.3125 -1.421875 \r\nQ 15.921875 -1.421875 10.953125 3.296875 \r\nQ 6 8.015625 6 15.921875 \r\nQ 6 25.140625 12.171875 29.828125 \r\nQ 18.359375 34.515625 30.609375 34.515625 \r\nL 43.21875 34.515625 \r\nL 43.21875 35.40625 \r\nQ 43.21875 41.609375 39.140625 45 \r\nQ 35.0625 48.390625 27.6875 48.390625 \r\nQ 23 48.390625 18.546875 47.265625 \r\nQ 14.109375 46.140625 10.015625 43.890625 \r\nL 10.015625 52.203125 \r\nQ 14.9375 54.109375 19.578125 55.046875 \r\nQ 24.21875 56 28.609375 56 \r\nQ 40.484375 56 46.34375 49.84375 \r\nQ 52.203125 43.703125 52.203125 31.203125 \r\nz\r\n\" id=\"DejaVuSans-97\"/>\r\n      <path d=\"M 9.421875 54.6875 \r\nL 18.40625 54.6875 \r\nL 18.40625 -0.984375 \r\nQ 18.40625 -11.421875 14.421875 -16.109375 \r\nQ 10.453125 -20.796875 1.609375 -20.796875 \r\nL -1.8125 -20.796875 \r\nL -1.8125 -13.1875 \r\nL 0.59375 -13.1875 \r\nQ 5.71875 -13.1875 7.5625 -10.8125 \r\nQ 9.421875 -8.453125 9.421875 -0.984375 \r\nz\r\nM 9.421875 75.984375 \r\nL 18.40625 75.984375 \r\nL 18.40625 64.59375 \r\nL 9.421875 64.59375 \r\nz\r\n\" id=\"DejaVuSans-106\"/>\r\n     </defs>\r\n     <g transform=\"translate(15.558281 159.508359)rotate(-90)scale(0.11 -0.11)\">\r\n      <use xlink:href=\"#DejaVuSans-86\"/>\r\n      <use x=\"60.658203\" xlink:href=\"#DejaVuSans-111\"/>\r\n      <use x=\"121.839844\" xlink:href=\"#DejaVuSans-108\"/>\r\n      <use x=\"149.623047\" xlink:href=\"#DejaVuSans-116\"/>\r\n      <use x=\"188.832031\" xlink:href=\"#DejaVuSans-97\"/>\r\n      <use x=\"250.111328\" xlink:href=\"#DejaVuSans-106\"/>\r\n      <use x=\"277.894531\" xlink:href=\"#DejaVuSans-101\"/>\r\n      <use x=\"339.417969\" xlink:href=\"#DejaVuSans-32\"/>\r\n      <use x=\"371.205078\" xlink:href=\"#DejaVuSans-40\"/>\r\n      <use x=\"410.21875\" xlink:href=\"#DejaVuSans-86\"/>\r\n      <use x=\"478.626953\" xlink:href=\"#DejaVuSans-41\"/>\r\n     </g>\r\n    </g>\r\n   </g>\r\n   <g id=\"line2d_11\">\r\n    <path clip-path=\"url(#p2d5397b2ac)\" d=\"M 67.279276 32.201761 \r\nL 371.642912 229.874489 \r\nL 371.642912 229.874489 \r\n\" style=\"fill:none;stroke:#1f77b4;stroke-linecap:square;stroke-width:1.5;\"/>\r\n   </g>\r\n   <g id=\"patch_3\">\r\n    <path d=\"M 52.061094 239.758125 \r\nL 52.061094 22.318125 \r\n\" style=\"fill:none;stroke:#000000;stroke-linecap:square;stroke-linejoin:miter;stroke-width:0.8;\"/>\r\n   </g>\r\n   <g id=\"patch_4\">\r\n    <path d=\"M 386.861094 239.758125 \r\nL 386.861094 22.318125 \r\n\" style=\"fill:none;stroke:#000000;stroke-linecap:square;stroke-linejoin:miter;stroke-width:0.8;\"/>\r\n   </g>\r\n   <g id=\"patch_5\">\r\n    <path d=\"M 52.061094 239.758125 \r\nL 386.861094 239.758125 \r\n\" style=\"fill:none;stroke:#000000;stroke-linecap:square;stroke-linejoin:miter;stroke-width:0.8;\"/>\r\n   </g>\r\n   <g id=\"patch_6\">\r\n    <path d=\"M 52.061094 22.318125 \r\nL 386.861094 22.318125 \r\n\" style=\"fill:none;stroke:#000000;stroke-linecap:square;stroke-linejoin:miter;stroke-width:0.8;\"/>\r\n   </g>\r\n   <g id=\"text_13\">\r\n    <!-- Voltaje respecto al tiempo -->\r\n    <defs>\r\n     <path d=\"M 41.109375 46.296875 \r\nQ 39.59375 47.171875 37.8125 47.578125 \r\nQ 36.03125 48 33.890625 48 \r\nQ 26.265625 48 22.1875 43.046875 \r\nQ 18.109375 38.09375 18.109375 28.8125 \r\nL 18.109375 0 \r\nL 9.078125 0 \r\nL 9.078125 54.6875 \r\nL 18.109375 54.6875 \r\nL 18.109375 46.1875 \r\nQ 20.953125 51.171875 25.484375 53.578125 \r\nQ 30.03125 56 36.53125 56 \r\nQ 37.453125 56 38.578125 55.875 \r\nQ 39.703125 55.765625 41.0625 55.515625 \r\nz\r\n\" id=\"DejaVuSans-114\"/>\r\n     <path d=\"M 48.78125 52.59375 \r\nL 48.78125 44.1875 \r\nQ 44.96875 46.296875 41.140625 47.34375 \r\nQ 37.3125 48.390625 33.40625 48.390625 \r\nQ 24.65625 48.390625 19.8125 42.84375 \r\nQ 14.984375 37.3125 14.984375 27.296875 \r\nQ 14.984375 17.28125 19.8125 11.734375 \r\nQ 24.65625 6.203125 33.40625 6.203125 \r\nQ 37.3125 6.203125 41.140625 7.25 \r\nQ 44.96875 8.296875 48.78125 10.40625 \r\nL 48.78125 2.09375 \r\nQ 45.015625 0.34375 40.984375 -0.53125 \r\nQ 36.96875 -1.421875 32.421875 -1.421875 \r\nQ 20.0625 -1.421875 12.78125 6.34375 \r\nQ 5.515625 14.109375 5.515625 27.296875 \r\nQ 5.515625 40.671875 12.859375 48.328125 \r\nQ 20.21875 56 33.015625 56 \r\nQ 37.15625 56 41.109375 55.140625 \r\nQ 45.0625 54.296875 48.78125 52.59375 \r\nz\r\n\" id=\"DejaVuSans-99\"/>\r\n    </defs>\r\n    <g transform=\"translate(141.023281 16.318125)scale(0.12 -0.12)\">\r\n     <use xlink:href=\"#DejaVuSans-86\"/>\r\n     <use x=\"60.658203\" xlink:href=\"#DejaVuSans-111\"/>\r\n     <use x=\"121.839844\" xlink:href=\"#DejaVuSans-108\"/>\r\n     <use x=\"149.623047\" xlink:href=\"#DejaVuSans-116\"/>\r\n     <use x=\"188.832031\" xlink:href=\"#DejaVuSans-97\"/>\r\n     <use x=\"250.111328\" xlink:href=\"#DejaVuSans-106\"/>\r\n     <use x=\"277.894531\" xlink:href=\"#DejaVuSans-101\"/>\r\n     <use x=\"339.417969\" xlink:href=\"#DejaVuSans-32\"/>\r\n     <use x=\"371.205078\" xlink:href=\"#DejaVuSans-114\"/>\r\n     <use x=\"410.068359\" xlink:href=\"#DejaVuSans-101\"/>\r\n     <use x=\"471.591797\" xlink:href=\"#DejaVuSans-115\"/>\r\n     <use x=\"523.691406\" xlink:href=\"#DejaVuSans-112\"/>\r\n     <use x=\"587.167969\" xlink:href=\"#DejaVuSans-101\"/>\r\n     <use x=\"648.691406\" xlink:href=\"#DejaVuSans-99\"/>\r\n     <use x=\"703.671875\" xlink:href=\"#DejaVuSans-116\"/>\r\n     <use x=\"742.880859\" xlink:href=\"#DejaVuSans-111\"/>\r\n     <use x=\"804.0625\" xlink:href=\"#DejaVuSans-32\"/>\r\n     <use x=\"835.849609\" xlink:href=\"#DejaVuSans-97\"/>\r\n     <use x=\"897.128906\" xlink:href=\"#DejaVuSans-108\"/>\r\n     <use x=\"924.912109\" xlink:href=\"#DejaVuSans-32\"/>\r\n     <use x=\"956.699219\" xlink:href=\"#DejaVuSans-116\"/>\r\n     <use x=\"995.908203\" xlink:href=\"#DejaVuSans-105\"/>\r\n     <use x=\"1023.691406\" xlink:href=\"#DejaVuSans-101\"/>\r\n     <use x=\"1085.214844\" xlink:href=\"#DejaVuSans-109\"/>\r\n     <use x=\"1182.626953\" xlink:href=\"#DejaVuSans-112\"/>\r\n     <use x=\"1246.103516\" xlink:href=\"#DejaVuSans-111\"/>\r\n    </g>\r\n   </g>\r\n  </g>\r\n </g>\r\n <defs>\r\n  <clipPath id=\"p2d5397b2ac\">\r\n   <rect height=\"217.44\" width=\"334.8\" x=\"52.061094\" y=\"22.318125\"/>\r\n  </clipPath>\r\n </defs>\r\n</svg>\r\n"
     },
     "metadata": {
      "needs_background": "light"
     }
    }
   ],
   "source": [
    "import ltspice\n",
    "l = ltspice.Ltspice(\"circuito sencillo.raw\")\n",
    "l.parse()\n",
    "tiempo = l.get_time()\n",
    "voltaje = l.get_data('V(1)')\n",
    "corriente = l.get_data('I(V1)')\n",
    "# Podemos pintar la corriente en función del tiempo\n",
    "# plt.plot(tiempo,corriente)\n",
    "# plt.xlabel('Tiempo(s)')\n",
    "# plt.ylabel('Intensidad(A)')\n",
    "# O el voltaje\n",
    "plt.plot(tiempo, voltaje)\n",
    "plt.title('Voltaje respecto al tiempo')\n",
    "plt.xlabel('Tiempo (s)')\n",
    "plt.ylabel('Voltaje (V)')"
   ]
  },
  {
   "cell_type": "code",
   "execution_count": 92,
   "metadata": {},
   "outputs": [
    {
     "output_type": "stream",
     "name": "stderr",
     "text": [
      "W: Locale appears not set! please export LANG=\"en_US.UTF-8\" or equivalent, \nW: or ahkab's unicode support is broken.\n"
     ]
    }
   ],
   "source": [
    "!ahkab \"circuito sencillo.sp\""
   ]
  },
  {
   "source": [
    "## Análisis de circuito con resistencias en serie"
   ],
   "cell_type": "markdown",
   "metadata": {}
  },
  {
   "cell_type": "code",
   "execution_count": null,
   "metadata": {},
   "outputs": [],
   "source": [
    "%%writefile \"resistencias en serie.net\"\n",
    "* Circuito en serie con 3 resistencias\n",
    "V1 1 0 type=vdc vdc=9\n",
    "R1 0 2 3k\n",
    "R2 2 3 10k\n",
    "R3 3 1 5k\n",
    "* análisis del circuito\n",
    ".op\n",
    ".end"
   ]
  },
  {
   "cell_type": "code",
   "execution_count": null,
   "metadata": {},
   "outputs": [],
   "source": [
    "circuito_y_analisis = ahkab.netlist_parser.parse_circuit('resistencias en serie.net')\n",
    "circuito = circuito_y_analisis[0]\n",
    "analisis_en_netlist = circuito_y_analisis[1]\n",
    "lista_de_analisis = ahkab.netlist_parser.parse_analysis(circuito, analisis_en_netlist)\n",
    "resultados = ahkab.run(circuito, lista_de_analisis)\n",
    "print(resultados['op'])"
   ]
  },
  {
   "source": [
    "### Resolución manual "
   ],
   "cell_type": "markdown",
   "metadata": {}
  },
  {
   "cell_type": "code",
   "execution_count": null,
   "metadata": {},
   "outputs": [],
   "source": [
    "from sympy.physics.units import ohms, amperes, volts\n",
    "from sympy.physics.units import kilo\n",
    "from sympy.physics.units import convert_to\n",
    "from sympy import solve, symbols, Eq\n",
    "# Resolución de circuito en serie con 3 resistencias\n",
    "voltage = 9*volts\n",
    "resistence = [3*kilo*ohms,10*kilo*ohms,5*kilo*ohms]\n",
    "r_total=0\n",
    "current_ = symbols('i')\n",
    "for i in range(len(resistence)):\n",
    "    r_total += resistence[i] \n",
    "law_ohm = Eq(voltage, current_ * r_total)\n",
    "solution_current = solve(law_ohm, current_)\n",
    "convert_to(solution_current[0],[amperes]).n(2)"
   ]
  },
  {
   "source": [
    "En un circuito en serie, la intensidad en cada uno de los bornes es exactamente la misma:\n",
    "$$\n",
    "I_T = I_1 = I_2 = I_3 = 5\\cdot 10^{-4} \\mathrm{A}\n",
    "$$"
   ],
   "cell_type": "markdown",
   "metadata": {}
  },
  {
   "cell_type": "code",
   "execution_count": null,
   "metadata": {},
   "outputs": [],
   "source": [
    "# Cálculo de los Voltajes en cada una de las resistencias según la Ley de Ohm\n",
    "solution_voltage = 0\n",
    "# Con el atributo voltage_f, calcularé la suma de los voltajes en todas las resistencas para después comparar con la del voltaje de la pila. Ley de Kirchhoff\n",
    "voltage_f = 0\n",
    "#Voltaje ahora es la incógnita de la Ley de Ohm, movemos el valor de voltage a otro atributo \"voltage_circuit\" para no perder el valor original\n",
    "voltage_circuit= voltage\n",
    "voltage = symbols('v')\n",
    "for i in range(len(resistence)):\n",
    "    law_ohm = Eq (voltage, solution_current[0]*resistence[i])\n",
    "    solution_voltage = solve(law_ohm, voltage)\n",
    "    # Utilizamos voltage_f para ir sumando los voltajes que se van calculando durante el circuito\n",
    "    voltage_f += solution_voltage[0]\n",
    "    # Imprimimos los valores de V1 , V2 y V3 hallados por la Ley de Ohm\n",
    "    print(convert_to(solution_voltage[0],[volts]).n(2))    \n",
    "#Verificación de la Ley de Kirchhoff:\n",
    "if voltage_f == voltage_circuit: \n",
    "    print (\"Se cumple la Ley de Kirchhoff\")    "
   ]
  },
  {
   "source": [
    "## Análisis .op de circuitos con resistencias en paralelo"
   ],
   "cell_type": "markdown",
   "metadata": {}
  },
  {
   "source": [
    "### Circuito 1"
   ],
   "cell_type": "markdown",
   "metadata": {}
  },
  {
   "cell_type": "code",
   "execution_count": null,
   "metadata": {},
   "outputs": [],
   "source": [
    "%%writefile \"circuito paralelo1.sp\"\n",
    "*Este es el primer circuito paralelos de 1 pila y 4 resistencias con ahkab\n",
    "V 0 1 type=vdc vdc=12\n",
    "Vdummy1 4 2 type=vdc vdc=0\n",
    "Vdummy2 5 3 type=vdc vdc=0\n",
    "R1 1 2 1k\n",
    "R2 4 0 470\n",
    "R3 2 3 220\n",
    "R4 5 0 1.5k\n",
    ".op\n",
    ".end"
   ]
  },
  {
   "cell_type": "code",
   "execution_count": null,
   "metadata": {},
   "outputs": [],
   "source": [
    "circuito_y_analisis = ahkab.netlist_parser.parse_circuit('circuito paralelo1.sp')\n",
    "circuito = circuito_y_analisis[0]       \n",
    "analisis_en_netlist = circuito_y_analisis[1]\n",
    "lista_de_analisis = ahkab.netlist_parser.parse_analysis(circuito, analisis_en_netlist)\n",
    "resultados = ahkab.run(circuito, lista_de_analisis)\n",
    "print(resultados['op'])\n",
    "print(resultados['op'].keys())"
   ]
  },
  {
   "cell_type": "code",
   "execution_count": null,
   "metadata": {},
   "outputs": [],
   "source": [
    "# Utilizamos esta variable para recorrer las claves de la lista de diccionarios\n",
    "index=resultados['op'].keys()\n",
    "# En esta variable sumaremos las intensidades para la comprobación de la ley Kirschhoff\n",
    "current_sum=0\n",
    "# Calculamos si se cumple la ley de Kirschoff respecto a la Intensidad del circuito con los valores dados por el análisis 'op'\n",
    "for i in index:                      \n",
    "    if(i[0]=='I' and i!='I(V)'):\n",
    "        current_sum += convert_to(resultados['op'][i][0][0],[amperes]).n(2)     \n",
    "if(int(resultados['op']['I(V)'][0][0]) == int(current_sum)):\n",
    "    print(\"Se cumple la ley de Kirchhoff\")\n",
    "convert_to(resultados['op']['I(V)'][0][0],[amperes]).n(2)"
   ]
  },
  {
   "cell_type": "code",
   "execution_count": null,
   "metadata": {},
   "outputs": [],
   "source": [
    "# Recalculamos los voltajes con Sympy.\n",
    "resistence = [1*kilo*ohms, 470*ohms, 220*ohms, 1.5*kilo*ohms]\n",
    "# Rescatamos el valor del generador para utilizarlo después para confirmar que se cumple la ley de Kirschhoff\n",
    "voltage_i=abs(resultados['op']['V1'][0][0]*volts)\n",
    "voltage = symbols('v')\n",
    "i=resultados['op']['I(V)'][0][0]*amperes\n",
    "i_dummy1 = resultados['op']['I(VDUMMY1)'][0][0]*amperes\n",
    "i_dummy2 = resultados['op']['I(VDUMMY2)'][0][0]*amperes\n",
    "# Cálculo del V(1) respecto a I(V) \n",
    "law_ohm = Eq(voltage, i*resistence[0])\n",
    "v1=solve(law_ohm,voltage)\n",
    "# Cálculo del V(2) respecto a I(Vdummy1)\n",
    "law_ohm = Eq(voltage, i_dummy1*resistence[1])\n",
    "v2=solve(law_ohm,voltage)\n",
    "# Cálculo del V(3) respecto a la I(Vdummy2)\n",
    "law_ohm = Eq(voltage, i_dummy2*resistence[2])\n",
    "v3=solve(law_ohm,voltage)\n",
    "# Cálculo del V(4) respecto a la I(Vdummy2)\n",
    "law_ohm = Eq(voltage, i_dummy2*resistence[3])\n",
    "v4=solve(law_ohm,voltage)\n",
    "if(convert_to(abs(v1[0])+abs(2*v2[0])-abs(v3[0])-abs(v4[0]),[volts]).n(2) - voltage_i ==0):\n",
    "    print(\"Se cumple la ley de Kirchhoff\")"
   ]
  },
  {
   "source": [
    "### Circuito 2"
   ],
   "cell_type": "markdown",
   "metadata": {}
  },
  {
   "cell_type": "code",
   "execution_count": null,
   "metadata": {},
   "outputs": [],
   "source": [
    "%%writefile \"circuito paralelo2.sp\"\n",
    "*Este es el primer circuito paralelos de 2 pilas y 5 resistencias con ahkab\n",
    "V 0 1 type=vdc vdc=9\n",
    "Vdummy 6 5 type=vdc vdc=0\n",
    "V2 0 3 type=vdc vdc=1.5\n",
    "R1 1 2 47\n",
    "R2 2 4 220\n",
    "R3 2 3 180\n",
    "R4 4 5 1k\n",
    "R5 6 0 560\n",
    ".op\n",
    ".end"
   ]
  },
  {
   "cell_type": "code",
   "execution_count": null,
   "metadata": {},
   "outputs": [],
   "source": [
    "circuito_y_analisis = ahkab.netlist_parser.parse_circuit('circuito paralelo2.sp')\n",
    "circuito = circuito_y_analisis[0]       \n",
    "analisis_en_netlist = circuito_y_analisis[1]\n",
    "lista_de_analisis = ahkab.netlist_parser.parse_analysis(circuito, analisis_en_netlist)\n",
    "resultados = ahkab.run(circuito, lista_de_analisis)\n",
    "print(resultados['op'])\n",
    "print(resultados['op'].keys())"
   ]
  },
  {
   "cell_type": "code",
   "execution_count": null,
   "metadata": {},
   "outputs": [],
   "source": [
    "# Utilizamos esta variable para recorrer las claves de la lista de diccionarios\n",
    "index=resultados['op'].keys()\n",
    "# En esta variable sumaremos las intensidades para la comprobación de la ley Kirschhoff\n",
    "current_sum=0\n",
    "# Calculamos si se cumple la ley de Kirschoff respecto a la Intensidad del circuito con los valores dados por el análisis 'op'\n",
    "for i in index:                      \n",
    "    if(i[0]=='I' and i!='I(V)'):\n",
    "        current_sum += convert_to(resultados['op'][i][0][0],[amperes]).n(2)     \n",
    "if(int(resultados['op']['I(V)'][0][0]) == int(current_sum)):\n",
    "    print(\"Se cumple la ley de Kirchhoff\")\n",
    "convert_to(resultados['op']['I(V)'][0][0],[amperes]).n(2)"
   ]
  },
  {
   "cell_type": "code",
   "execution_count": null,
   "metadata": {},
   "outputs": [],
   "source": [
    "# Recalculamos los voltajes con Sympy.\n",
    "resistence = [47*ohms, 220*ohms, 180*ohms, 1*kilo*ohms, 560*ohms]\n",
    "# Rescatamos los valores de los generadores para utilizarlos después para confirmar que se cumple la ley de Kirschhoff\n",
    "voltage_i=abs(resultados['op']['V1'][0][0]*volts)\n",
    "voltage_i2=abs(resultados['op']['V3'][0][0]*volts)\n",
    "voltage = symbols('v')\n",
    "i=resultados['op']['I(V)'][0][0]*amperes\n",
    "i_dummy = resultados['op']['I(VDUMMY)'][0][0]*amperes\n",
    "i2 = resultados['op']['I(V2)'][0][0]*amperes\n",
    "# Cálculo del V(1) respecto a I(V) \n",
    "law_ohm = Eq(voltage, i*resistence[0])\n",
    "v1=solve(law_ohm,voltage)\n",
    "# Cálculo del V(2) respecto a I(Vdummy)\n",
    "law_ohm = Eq(voltage, i_dummy*resistence[1])\n",
    "v2=solve(law_ohm,voltage)\n",
    "# Cálculo del V(3) respecto a la I(V2)\n",
    "law_ohm = Eq(voltage, i2*resistence[2])\n",
    "v3=solve(law_ohm,voltage)\n",
    "# Cálculo del V(4) respecto a la I(Vdummy)\n",
    "law_ohm = Eq(voltage, i_dummy*resistence[3])\n",
    "v4=solve(law_ohm,voltage)\n",
    "# Cálculo del V(5) respecto a la I(Vdummy)\n",
    "law_ohm = Eq(voltage, i_dummy*resistence[4])\n",
    "v5=solve(law_ohm,voltage)\n",
    "\n",
    "if(convert_to(abs(v1[0])-abs(v2[0])+abs(2*v3[0])-abs(v4[0])-abs(v5[0]),[volts]).n(2) + 2*voltage_i2 - voltage_i ==0):\n",
    "     print(\"Se cumple la ley de Kirchhoff\")"
   ]
  },
  {
   "source": [
    "### Circuito 3"
   ],
   "cell_type": "markdown",
   "metadata": {}
  },
  {
   "cell_type": "code",
   "execution_count": null,
   "metadata": {},
   "outputs": [],
   "source": [
    "%%writefile \"circuito paralelo3.sp\"\n",
    "*Este es el primer circuito paralelos de 4 pilas y 3 resistencias con ahkab\n",
    "V 0 1 type=vdc vdc=9\n",
    "V1 2 1 type=vdc vdc=0\n",
    "V2 3 1 type=vdc vdc=0\n",
    "V3 4 1 type=vdc vdc=0\n",
    "R1 2 0 10k\n",
    "R2 3 0 2k\n",
    "R3 4 0 1k\n",
    ".op\n",
    ".end"
   ]
  },
  {
   "cell_type": "code",
   "execution_count": null,
   "metadata": {},
   "outputs": [],
   "source": [
    "circuito_y_analisis = ahkab.netlist_parser.parse_circuit('circuito paralelo3.sp')\n",
    "circuito = circuito_y_analisis[0]       \n",
    "analisis_en_netlist = circuito_y_analisis[1]\n",
    "lista_de_analisis = ahkab.netlist_parser.parse_analysis(circuito, analisis_en_netlist)\n",
    "resultados = ahkab.run(circuito, lista_de_analisis)\n",
    "print(resultados['op'])\n",
    "print(resultados['op'].keys())"
   ]
  },
  {
   "cell_type": "code",
   "execution_count": null,
   "metadata": {},
   "outputs": [],
   "source": [
    "# Utilizamos esta variable para recorrer las claves de la lista de diccionarios\n",
    "index=resultados['op'].keys()\n",
    "# En esta variable sumaremos las intensidades para la comprobación de la ley Kirschhoff\n",
    "current_sum=0\n",
    "# Calculamos si se cumple la ley de Kirschoff respecto a la Intensidad del circuito con los valores dados por el análisis 'op'\n",
    "for i in index:                      \n",
    "    if(i[0]=='I' and i!='I(V)'):\n",
    "        current_sum += convert_to(resultados['op'][i][0][0],[amperes]).n(2)     \n",
    "if(int(resultados['op']['I(V)'][0][0]) == int(current_sum)):\n",
    "    print(\"Se cumple la ley de Kirchhoff\")\n",
    "convert_to(resultados['op']['I(V)'][0][0],[amperes]).n(2)"
   ]
  },
  {
   "cell_type": "code",
   "execution_count": null,
   "metadata": {},
   "outputs": [],
   "source": [
    "# Recalculamos los voltajes con Sympy.\n",
    "resistence = [10*kilo*ohms ,2*kilo*ohms,1*kilo*ohms]\n",
    "# Rescatamos el valor del generador para utilizarlo después para confirmar que se cumple la ley de Kirschhoff\n",
    "voltage_i=abs(resultados['op']['V1'][0][0]*volts)\n",
    "voltage = symbols('v')\n",
    "i=resultados['op']['I(V)'][0][0]*amperes\n",
    "i_dummy1 = resultados['op']['I(V1)'][0][0]*amperes\n",
    "i_dummy2 = resultados['op']['I(V2)'][0][0]*amperes\n",
    "i_dummy3 = resultados['op']['I(V3)'][0][0]*amperes\n",
    "# Cálculo del V(1) respecto a I(V) \n",
    "law_ohm = Eq(voltage, i_dummy1*resistence[0])\n",
    "v1=solve(law_ohm,voltage)\n",
    "# Cálculo del V(2) respecto a I(Vdummy1)\n",
    "law_ohm = Eq(voltage, i_dummy2*resistence[1])\n",
    "v2=solve(law_ohm,voltage)\n",
    "# Cálculo del V(3) respecto a la I(Vdummy2)\n",
    "law_ohm = Eq(voltage, i_dummy3*resistence[2])\n",
    "v3=solve(law_ohm,voltage)\n",
    "if(convert_to(abs(2*v1[0])-abs(v3[0]),[volts]).n(2) - voltage_i ==0):\n",
    "    print(\"Se cumple la ley de Kirchhoff\")"
   ]
  },
  {
   "source": [
    "## Circuitos en DC que evolucionan con el tiempo"
   ],
   "cell_type": "markdown",
   "metadata": {}
  },
  {
   "cell_type": "code",
   "execution_count": null,
   "metadata": {},
   "outputs": [],
   "source": [
    "#Configuramos las gráficas de estándar SVG\n",
    "%config InlineBackend.figure_formats = ['svg']"
   ]
  },
  {
   "cell_type": "code",
   "execution_count": null,
   "metadata": {},
   "outputs": [],
   "source": [
    "%%writefile \"condensador en continua.ckt\"\n",
    "* Carga condensador\n",
    "v1 0 1 type=vdc vdc=6\n",
    "r1 1 2 1k\n",
    "c1 2 0 1m ic=0\n",
    ".op\n",
    ".tran tstep=0.1 tstop=8 uic=0\n",
    ".end"
   ]
  },
  {
   "source": [
    "> `ic` es un atributo opcional que indica el voltaje inicial del condensador en el análisis en relación al tiempo `.tran`"
   ],
   "cell_type": "markdown",
   "metadata": {}
  },
  {
   "cell_type": "code",
   "execution_count": null,
   "metadata": {},
   "outputs": [],
   "source": [
    "circuito_y_analisis = ahkab.netlist_parser.parse_circuit(\"condensador en continua.ckt\")\n",
    "circuito = circuito_y_analisis[0]\n",
    "analisis_en_netlist = circuito_y_analisis[1]\n",
    "lista_de_analisis = ahkab.netlist_parser.parse_analysis(circuito,analisis_en_netlist)\n",
    "lista_de_analisis[1]['outfile'] = \"simulacion tran.tsv\""
   ]
  },
  {
   "cell_type": "code",
   "execution_count": null,
   "metadata": {},
   "outputs": [],
   "source": [
    "resultados = ahkab.run(circuito, lista_de_analisis)\n",
    "print(resultados['op'])\n",
    "print(resultados['tran'].keys())"
   ]
  },
  {
   "cell_type": "code",
   "execution_count": null,
   "metadata": {},
   "outputs": [],
   "source": [
    "figura = plt.figure()\n",
    "plt.title(\"Carga de un condensador\")\n",
    "plt.plot(resultados['tran']['T'], resultados['tran']['I(V1)'], label = \"Una etiqueta\")\n",
    "plt.xlabel('Tiempo')\n",
    "plt.ylabel('Intensidad')"
   ]
  },
  {
   "source": [
    "La intensidad disminuye a medida que pasa el tiempo"
   ],
   "cell_type": "markdown",
   "metadata": {}
  },
  {
   "cell_type": "code",
   "execution_count": null,
   "metadata": {},
   "outputs": [],
   "source": [
    "figura = plt.figure()\n",
    "plt.title(\"Volaje V1 a lo largo del tiempo\")\n",
    "plt.plot(resultados['tran']['T'],resultados['tran']['V2'])\n",
    "plt.xlabel('Tiempo')\n",
    "plt.ylabel('Voltaje')"
   ]
  },
  {
   "source": [
    "> Sin embargo, el voltaje a medida que pasa el tiempo aumenta. Según la ecuación de la ecuación que tarda un condensador en cargarse respecto al tiempo:\n",
    "$$\n",
    "t=V\\cdot C\n",
    "$$\n",
    "> A medida que el condensador se carga, la subida total del voltaje debe ser equivalente al consumido"
   ],
   "cell_type": "markdown",
   "metadata": {}
  },
  {
   "source": [
    "## Carrera de condensadores"
   ],
   "cell_type": "markdown",
   "metadata": {}
  },
  {
   "cell_type": "code",
   "execution_count": null,
   "metadata": {},
   "outputs": [],
   "source": [
    "%%writefile \"carrera en condensadores.ckt\"\n",
    "* Carga condensador\n",
    "v0 0 1 type=vdc vdc=10\n",
    "r1 0 2 3k\n",
    "c1 2 3 47u ic=0\n",
    "v1dummy 3 1 type=vdc vdc=0\n",
    "c2 2 4 22u ic=0\n",
    "v2dummy 4 1 type=vdc vdc=0\n",
    ".tran tstep=0.01 tstart=6.5 tstop=7.5 uic=0\n",
    ".end"
   ]
  },
  {
   "cell_type": "code",
   "execution_count": null,
   "metadata": {},
   "outputs": [],
   "source": [
    "circuito_y_analisis = ahkab.netlist_parser.parse_circuit(\"carrera en condensadores.ckt\")\n",
    "circuito = circuito_y_analisis[0]\n",
    "analisis_en_netlist = circuito_y_analisis[1]\n",
    "lista_de_analisis = ahkab.netlist_parser.parse_analysis(circuito, analisis_en_netlist)\n",
    "lista_de_analisis [0]['outfile'] = \"simulación tran carrera condesadores.tsv\"\n",
    "resultados = ahkab.run(circuito,lista_de_analisis)"
   ]
  },
  {
   "cell_type": "code",
   "execution_count": null,
   "metadata": {},
   "outputs": [],
   "source": [
    "print(resultados['tran']['V4'])"
   ]
  },
  {
   "cell_type": "code",
   "execution_count": null,
   "metadata": {},
   "outputs": [],
   "source": [
    "figura = plt.figure()\n",
    "plt.title(\"Carrera de condensadores: Intensidades\")\n",
    "plt.xlim(6.50,7.5)\n",
    "plt.ylim(0.0,0.0005)\n",
    "plt.xlabel('Tiempo')\n",
    "plt.ylabel('Intensidad')\n",
    "plt.grid()\n",
    "plt.plot(resultados['tran']['T'], resultados['tran']['I(V1DUMMY)'], label=\"Intensidad en C1\")\n",
    "plt.plot(resultados['tran']['T'], resultados['tran']['I(V2DUMMY)'], label=\"Intensidad en C2\")\n",
    "plt.legend(loc =\"lower left\", title=\"Leyenda\",frameon=True)\n"
   ]
  },
  {
   "source": [
    "> Como se puede observar en la gráfica, es C2 el condensador que se satura primero"
   ],
   "cell_type": "markdown",
   "metadata": {}
  },
  {
   "source": [
    "## Circuito en corriente alterna"
   ],
   "cell_type": "markdown",
   "metadata": {}
  },
  {
   "cell_type": "code",
   "execution_count": null,
   "metadata": {},
   "outputs": [],
   "source": [
    "%%writefile \"corriente alterna.net\"\n",
    "* Circuito en corriente alterna\n",
    "v1 1 0 sin(0 120 60 0 0)\n",
    "r1 0 1 10k\n",
    ".tran 1\n",
    ".end"
   ]
  },
  {
   "cell_type": "code",
   "execution_count": null,
   "metadata": {},
   "outputs": [],
   "source": [
    "lts \"corriente alterna.net\""
   ]
  },
  {
   "cell_type": "code",
   "execution_count": null,
   "metadata": {},
   "outputs": [],
   "source": [
    "%pycat corriente alterna.log"
   ]
  },
  {
   "cell_type": "code",
   "execution_count": null,
   "metadata": {},
   "outputs": [],
   "source": [
    "import ltspice\n",
    "l =ltspice.Ltspice(\"corriente alterna.raw\")\n",
    "l.parse()\n",
    "tiempo = l.get_time()\n",
    "voltaje = l.get_data('V(1)')\n",
    "corriente = l.get_data('I(V1)')\n",
    "plt.title(\"Corriente alterna LTspice: Voltaje\")\n",
    "plt.xlim(0.0,0.2)\n",
    "plt.xlabel('Tiempo')\n",
    "plt.ylabel('Voltaje')\n",
    "plt.plot(tiempo,voltaje, label=\"Voltaje V1\")\n",
    "plt.legend(loc =\"upper right\", title=\"Leyenda\",frameon=True)"
   ]
  },
  {
   "cell_type": "code",
   "execution_count": null,
   "metadata": {},
   "outputs": [],
   "source": [
    "plt.title(\"Corriente alterna LTspice: Intensidad\")\n",
    "plt.xlim(0.0,0.2)\n",
    "plt.xlabel('Tiempo')\n",
    "plt.ylabel('Intensidad')\n",
    "plt.plot(tiempo,corriente, label=\"Intensidad I(V1)\")\n",
    "plt.legend(loc =\"upper right\", title=\"Leyenda\",frameon=True)"
   ]
  },
  {
   "source": [
    "### Resolución corriente alterna en Ahkab"
   ],
   "cell_type": "markdown",
   "metadata": {}
  },
  {
   "cell_type": "code",
   "execution_count": null,
   "metadata": {},
   "outputs": [],
   "source": [
    "%%writefile \"corriente alterna Ahkab.sp\"\n",
    "* Circuito de corriente alterna con Ahkab\n",
    "v1 1 0 vdc=0 type=sin VO=0 VA=120 FREQ=60 TD=0 THETA=0 \n",
    "r1 0 1 10k\n",
    ".op\n",
    ".tran tstep=0.001 tstart=0 tstop=0.2 uic=0\n",
    ".end"
   ]
  },
  {
   "cell_type": "code",
   "execution_count": null,
   "metadata": {},
   "outputs": [],
   "source": [
    "circuito_y_analisis = ahkab.netlist_parser.parse_circuit(\"corriente alterna Ahkab.sp\")\n",
    "circuito = circuito_y_analisis[0]\n",
    "analisis_en_netlist = circuito_y_analisis[1]\n",
    "lista_de_analisis = ahkab.netlist_parser.parse_analysis(circuito,analisis_en_netlist)\n",
    "lista_de_analisis[1]['outfile'] = \"simulacion tran alterna.tsv\""
   ]
  },
  {
   "cell_type": "code",
   "execution_count": null,
   "metadata": {},
   "outputs": [],
   "source": [
    "resultados = ahkab.run(circuito, lista_de_analisis)\n",
    "print(resultados['op'])\n",
    "print(resultados['tran'].keys())"
   ]
  },
  {
   "cell_type": "code",
   "execution_count": null,
   "metadata": {},
   "outputs": [],
   "source": [
    "figura = plt.figure()\n",
    "plt.title(\"Corriente alterna Ahkab: Voltajes\")\n",
    "plt.xlabel('Tiempo')\n",
    "plt.ylabel('Voltaje')\n",
    "plt.plot(resultados['tran']['T'], resultados['tran']['V1'], label=\"Voltaje V1\")\n",
    "plt.legend(loc =\"lower left\", title=\"Leyenda\",frameon=True)"
   ]
  },
  {
   "cell_type": "code",
   "execution_count": null,
   "metadata": {},
   "outputs": [],
   "source": [
    "figura = plt.figure()\n",
    "plt.title(\"Corriente alterna Ahkab: Intensidad\")\n",
    "plt.xlabel('Tiempo')\n",
    "plt.ylabel('Intensidad')\n",
    "plt.plot(resultados['tran']['T'], resultados['tran']['I(V1)'], label=\"Intensidad I(V1)\")\n",
    "plt.legend(loc =\"lower left\", title=\"Leyenda\",frameon=True)"
   ]
  }
 ]
}